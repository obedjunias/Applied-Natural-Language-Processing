{
 "cells": [
  {
   "cell_type": "code",
   "execution_count": 7,
   "metadata": {},
   "outputs": [],
   "source": [
    "import nltk\n",
    "from nltk.corpus import stopwords"
   ]
  },
  {
   "cell_type": "code",
   "execution_count": 2,
   "metadata": {},
   "outputs": [],
   "source": [
    "a = \"Cricket is a bat-and-ball game played between two teams of eleven players on a field at the centre of which is a 20-metre (22-yard) pitch with a wicket at each end, each comprising two bails balanced on three stumps. The batting side scores runs by striking the ball bowled at the wicket with the bat, while the bowling and fielding side tries to prevent this and dismiss each player (so they are \\\"out\\\"). Means of dismissal include being bowled, when the ball hits the stumps and dislodges the bails, and by the fielding side catching the ball after it is hit by the bat, but before it hits the ground. When ten players have been dismissed, the innings ends and the teams swap roles. The game is adjudicated by two umpires, aided by a third umpire and match referee in international matches. They communicate with two off-field scorers who record the match's statistical information.There are various formats ranging from Twenty20, played over a few hours with each team batting for a single innings of 20 overs, to Test matches, played over five days with unlimited overs and the teams each batting for two innings of unlimited length. Traditionally cricketers play in all-white kit, but in limited overs cricket they wear club or team colours. In addition to the basic kit, some players wear protective gear to prevent injury caused by the ball, which is a hard, solid spheroid made of compressed leather with a slightly raised sewn seam enclosing a cork core which is layered with tightly wound string.Historically, cricket's origins are uncertain and the earliest definite reference is in south-east England in the middle of the 16th century. It spread globally with the expansion of the British Empire, leading to the first international matches in the second half of the 19th century. The game's governing body is the International Cricket Council (ICC), which has over 100 members, twelve of which are full members who play Test matches. The game's rules are held in a code called the Laws of Cricket which is owned and maintained by Marylebone Cricket Club (MCC) in London. The sport is followed primarily in the Indian subcontinent, Australasia, the United Kingdom, southern Africa and the West Indies, its globalisation occurring during the expansion of the British Empire and remaining popular into the 21st century.[1] Women's cricket, which is organised and played separately, has also achieved international standard. The most successful side playing international cricket is Australia, which has won seven One Day International trophies, including five World Cups, more than any other country and has been the top-rated Test side more than any other country.\""
   ]
  },
  {
   "cell_type": "code",
   "execution_count": 3,
   "metadata": {},
   "outputs": [],
   "source": [
    "import re"
   ]
  },
  {
   "cell_type": "code",
   "execution_count": 4,
   "metadata": {},
   "outputs": [],
   "source": [
    "ps = nltk.PorterStemmer()\n",
    "lm = nltk.WordNetLemmatizer()"
   ]
  },
  {
   "cell_type": "code",
   "execution_count": 5,
   "metadata": {},
   "outputs": [],
   "source": [
    "sentences = nltk.sent_tokenize(a)"
   ]
  },
  {
   "cell_type": "code",
   "execution_count": 6,
   "metadata": {},
   "outputs": [
    {
     "data": {
      "text/plain": [
       "['Cricket is a bat-and-ball game played between two teams of eleven players on a field at the centre of which is a 20-metre (22-yard) pitch with a wicket at each end, each comprising two bails balanced on three stumps.',\n",
       " 'The batting side scores runs by striking the ball bowled at the wicket with the bat, while the bowling and fielding side tries to prevent this and dismiss each player (so they are \"out\").',\n",
       " 'Means of dismissal include being bowled, when the ball hits the stumps and dislodges the bails, and by the fielding side catching the ball after it is hit by the bat, but before it hits the ground.',\n",
       " 'When ten players have been dismissed, the innings ends and the teams swap roles.',\n",
       " 'The game is adjudicated by two umpires, aided by a third umpire and match referee in international matches.',\n",
       " \"They communicate with two off-field scorers who record the match's statistical information.There are various formats ranging from Twenty20, played over a few hours with each team batting for a single innings of 20 overs, to Test matches, played over five days with unlimited overs and the teams each batting for two innings of unlimited length.\",\n",
       " 'Traditionally cricketers play in all-white kit, but in limited overs cricket they wear club or team colours.',\n",
       " \"In addition to the basic kit, some players wear protective gear to prevent injury caused by the ball, which is a hard, solid spheroid made of compressed leather with a slightly raised sewn seam enclosing a cork core which is layered with tightly wound string.Historically, cricket's origins are uncertain and the earliest definite reference is in south-east England in the middle of the 16th century.\",\n",
       " 'It spread globally with the expansion of the British Empire, leading to the first international matches in the second half of the 19th century.',\n",
       " \"The game's governing body is the International Cricket Council (ICC), which has over 100 members, twelve of which are full members who play Test matches.\",\n",
       " \"The game's rules are held in a code called the Laws of Cricket which is owned and maintained by Marylebone Cricket Club (MCC) in London.\",\n",
       " 'The sport is followed primarily in the Indian subcontinent, Australasia, the United Kingdom, southern Africa and the West Indies, its globalisation occurring during the expansion of the British Empire and remaining popular into the 21st century.',\n",
       " \"[1] Women's cricket, which is organised and played separately, has also achieved international standard.\",\n",
       " 'The most successful side playing international cricket is Australia, which has won seven One Day International trophies, including five World Cups, more than any other country and has been the top-rated Test side more than any other country.']"
      ]
     },
     "execution_count": 6,
     "metadata": {},
     "output_type": "execute_result"
    }
   ],
   "source": [
    "sentences"
   ]
  },
  {
   "cell_type": "code",
   "execution_count": 12,
   "metadata": {},
   "outputs": [],
   "source": [
    "stopWords = stopwords.words(\"english\")\n",
    "corpus = []\n",
    "def parseText(txt):\n",
    "    for i in range(len(sentences)):\n",
    "        sent = re.sub(\"[^a-zA-Z]\",\" \",sentences[i])\n",
    "        sent = sent.lower()\n",
    "        sent = sent.split()\n",
    "        words = [lm.lemmatize(word) for word in sent if word not in stopWords]\n",
    "        sent = \" \".join(words)\n",
    "        corpus.append(sent)\n",
    "        "
   ]
  },
  {
   "cell_type": "code",
   "execution_count": 13,
   "metadata": {},
   "outputs": [],
   "source": [
    "parseText(a)"
   ]
  },
  {
   "cell_type": "code",
   "execution_count": 14,
   "metadata": {},
   "outputs": [
    {
     "data": {
      "text/plain": [
       "['cricket bat ball game played two team eleven player field centre metre yard pitch wicket end comprising two bail balanced three stump',\n",
       " 'batting side score run striking ball bowled wicket bat bowling fielding side try prevent dismiss player',\n",
       " 'mean dismissal include bowled ball hit stump dislodges bail fielding side catching ball hit bat hit ground',\n",
       " 'ten player dismissed inning end team swap role',\n",
       " 'game adjudicated two umpire aided third umpire match referee international match',\n",
       " 'communicate two field scorer record match statistical information various format ranging twenty played hour team batting single inning over test match played five day unlimited over team batting two inning unlimited length',\n",
       " 'traditionally cricketer play white kit limited over cricket wear club team colour',\n",
       " 'addition basic kit player wear protective gear prevent injury caused ball hard solid spheroid made compressed leather slightly raised sewn seam enclosing cork core layered tightly wound string historically cricket origin uncertain earliest definite reference south east england middle th century',\n",
       " 'spread globally expansion british empire leading first international match second half th century',\n",
       " 'game governing body international cricket council icc member twelve full member play test match',\n",
       " 'game rule held code called law cricket owned maintained marylebone cricket club mcc london',\n",
       " 'sport followed primarily indian subcontinent australasia united kingdom southern africa west indie globalisation occurring expansion british empire remaining popular st century',\n",
       " 'woman cricket organised played separately also achieved international standard',\n",
       " 'successful side playing international cricket australia seven one day international trophy including five world cup country top rated test side country']"
      ]
     },
     "execution_count": 14,
     "metadata": {},
     "output_type": "execute_result"
    }
   ],
   "source": [
    "corpus"
   ]
  },
  {
   "cell_type": "code",
   "execution_count": 15,
   "metadata": {},
   "outputs": [],
   "source": [
    "from sklearn.feature_extraction.text import CountVectorizer\n",
    "count_vect = CountVectorizer()"
   ]
  },
  {
   "cell_type": "code",
   "execution_count": 16,
   "metadata": {},
   "outputs": [],
   "source": [
    "vectors = count_vect.fit_transform(corpus)"
   ]
  },
  {
   "cell_type": "code",
   "execution_count": 20,
   "metadata": {},
   "outputs": [
    {
     "data": {
      "text/plain": [
       "(14, 173)"
      ]
     },
     "execution_count": 20,
     "metadata": {},
     "output_type": "execute_result"
    }
   ],
   "source": [
    "vectors.shape"
   ]
  },
  {
   "cell_type": "code",
   "execution_count": 21,
   "metadata": {},
   "outputs": [
    {
     "data": {
      "text/plain": [
       "['achieved',\n",
       " 'addition',\n",
       " 'adjudicated',\n",
       " 'africa',\n",
       " 'aided',\n",
       " 'also',\n",
       " 'australasia',\n",
       " 'australia',\n",
       " 'bail',\n",
       " 'balanced',\n",
       " 'ball',\n",
       " 'basic',\n",
       " 'bat',\n",
       " 'batting',\n",
       " 'body',\n",
       " 'bowled',\n",
       " 'bowling',\n",
       " 'british',\n",
       " 'called',\n",
       " 'catching',\n",
       " 'caused',\n",
       " 'centre',\n",
       " 'century',\n",
       " 'club',\n",
       " 'code',\n",
       " 'colour',\n",
       " 'communicate',\n",
       " 'compressed',\n",
       " 'comprising',\n",
       " 'core',\n",
       " 'cork',\n",
       " 'council',\n",
       " 'country',\n",
       " 'cricket',\n",
       " 'cricketer',\n",
       " 'cup',\n",
       " 'day',\n",
       " 'definite',\n",
       " 'dislodges',\n",
       " 'dismiss',\n",
       " 'dismissal',\n",
       " 'dismissed',\n",
       " 'earliest',\n",
       " 'east',\n",
       " 'eleven',\n",
       " 'empire',\n",
       " 'enclosing',\n",
       " 'end',\n",
       " 'england',\n",
       " 'expansion',\n",
       " 'field',\n",
       " 'fielding',\n",
       " 'first',\n",
       " 'five',\n",
       " 'followed',\n",
       " 'format',\n",
       " 'full',\n",
       " 'game',\n",
       " 'gear',\n",
       " 'globalisation',\n",
       " 'globally',\n",
       " 'governing',\n",
       " 'ground',\n",
       " 'half',\n",
       " 'hard',\n",
       " 'held',\n",
       " 'historically',\n",
       " 'hit',\n",
       " 'hour',\n",
       " 'icc',\n",
       " 'include',\n",
       " 'including',\n",
       " 'indian',\n",
       " 'indie',\n",
       " 'information',\n",
       " 'injury',\n",
       " 'inning',\n",
       " 'international',\n",
       " 'kingdom',\n",
       " 'kit',\n",
       " 'law',\n",
       " 'layered',\n",
       " 'leading',\n",
       " 'leather',\n",
       " 'length',\n",
       " 'limited',\n",
       " 'london',\n",
       " 'made',\n",
       " 'maintained',\n",
       " 'marylebone',\n",
       " 'match',\n",
       " 'mcc',\n",
       " 'mean',\n",
       " 'member',\n",
       " 'metre',\n",
       " 'middle',\n",
       " 'occurring',\n",
       " 'one',\n",
       " 'organised',\n",
       " 'origin',\n",
       " 'over',\n",
       " 'owned',\n",
       " 'pitch',\n",
       " 'play',\n",
       " 'played',\n",
       " 'player',\n",
       " 'playing',\n",
       " 'popular',\n",
       " 'prevent',\n",
       " 'primarily',\n",
       " 'protective',\n",
       " 'raised',\n",
       " 'ranging',\n",
       " 'rated',\n",
       " 'record',\n",
       " 'referee',\n",
       " 'reference',\n",
       " 'remaining',\n",
       " 'role',\n",
       " 'rule',\n",
       " 'run',\n",
       " 'score',\n",
       " 'scorer',\n",
       " 'seam',\n",
       " 'second',\n",
       " 'separately',\n",
       " 'seven',\n",
       " 'sewn',\n",
       " 'side',\n",
       " 'single',\n",
       " 'slightly',\n",
       " 'solid',\n",
       " 'south',\n",
       " 'southern',\n",
       " 'spheroid',\n",
       " 'sport',\n",
       " 'spread',\n",
       " 'st',\n",
       " 'standard',\n",
       " 'statistical',\n",
       " 'striking',\n",
       " 'string',\n",
       " 'stump',\n",
       " 'subcontinent',\n",
       " 'successful',\n",
       " 'swap',\n",
       " 'team',\n",
       " 'ten',\n",
       " 'test',\n",
       " 'th',\n",
       " 'third',\n",
       " 'three',\n",
       " 'tightly',\n",
       " 'top',\n",
       " 'traditionally',\n",
       " 'trophy',\n",
       " 'try',\n",
       " 'twelve',\n",
       " 'twenty',\n",
       " 'two',\n",
       " 'umpire',\n",
       " 'uncertain',\n",
       " 'united',\n",
       " 'unlimited',\n",
       " 'various',\n",
       " 'wear',\n",
       " 'west',\n",
       " 'white',\n",
       " 'wicket',\n",
       " 'woman',\n",
       " 'world',\n",
       " 'wound',\n",
       " 'yard']"
      ]
     },
     "execution_count": 21,
     "metadata": {},
     "output_type": "execute_result"
    }
   ],
   "source": [
    "count_vect.get_feature_names()"
   ]
  },
  {
   "cell_type": "code",
   "execution_count": 24,
   "metadata": {},
   "outputs": [
    {
     "data": {
      "text/plain": [
       "array([1, 0, 0, 0, 0, 1, 0, 0, 0, 0, 0, 0, 0, 0, 0, 0, 0, 0, 0, 0, 0, 0,\n",
       "       0, 0, 0, 0, 0, 0, 0, 0, 0, 0, 0, 1, 0, 0, 0, 0, 0, 0, 0, 0, 0, 0,\n",
       "       0, 0, 0, 0, 0, 0, 0, 0, 0, 0, 0, 0, 0, 0, 0, 0, 0, 0, 0, 0, 0, 0,\n",
       "       0, 0, 0, 0, 0, 0, 0, 0, 0, 0, 0, 1, 0, 0, 0, 0, 0, 0, 0, 0, 0, 0,\n",
       "       0, 0, 0, 0, 0, 0, 0, 0, 0, 0, 1, 0, 0, 0, 0, 0, 1, 0, 0, 0, 0, 0,\n",
       "       0, 0, 0, 0, 0, 0, 0, 0, 0, 0, 0, 0, 0, 0, 0, 1, 0, 0, 0, 0, 0, 0,\n",
       "       0, 0, 0, 0, 0, 0, 1, 0, 0, 0, 0, 0, 0, 0, 0, 0, 0, 0, 0, 0, 0, 0,\n",
       "       0, 0, 0, 0, 0, 0, 0, 0, 0, 0, 0, 0, 0, 0, 0, 1, 0, 0, 0],\n",
       "      dtype=int64)"
      ]
     },
     "execution_count": 24,
     "metadata": {},
     "output_type": "execute_result"
    }
   ],
   "source": [
    "vectors.toarray()[12]"
   ]
  },
  {
   "cell_type": "code",
   "execution_count": 25,
   "metadata": {},
   "outputs": [
    {
     "name": "stdout",
     "output_type": "stream",
     "text": [
      "Collecting wordcloud\n",
      "  Downloading wordcloud-1.7.0-cp37-cp37m-win_amd64.whl (157 kB)\n",
      "Requirement already satisfied: matplotlib in e:\\anaconda\\lib\\site-packages (from wordcloud) (3.0.2)\n",
      "Requirement already satisfied: numpy>=1.6.1 in e:\\anaconda\\lib\\site-packages (from wordcloud) (1.18.1)\n",
      "Requirement already satisfied: pillow in e:\\anaconda\\lib\\site-packages (from wordcloud) (7.0.0)\n",
      "Requirement already satisfied: cycler>=0.10 in e:\\anaconda\\lib\\site-packages (from matplotlib->wordcloud) (0.10.0)\n",
      "Requirement already satisfied: kiwisolver>=1.0.1 in e:\\anaconda\\lib\\site-packages (from matplotlib->wordcloud) (1.1.0)\n",
      "Requirement already satisfied: pyparsing!=2.0.4,!=2.1.2,!=2.1.6,>=2.0.1 in e:\\anaconda\\lib\\site-packages (from matplotlib->wordcloud) (2.4.6)\n",
      "Requirement already satisfied: python-dateutil>=2.1 in e:\\anaconda\\lib\\site-packages (from matplotlib->wordcloud) (2.8.1)\n",
      "Requirement already satisfied: six in e:\\anaconda\\lib\\site-packages (from cycler>=0.10->matplotlib->wordcloud) (1.14.0)\n",
      "Requirement already satisfied: setuptools in e:\\anaconda\\lib\\site-packages (from kiwisolver>=1.0.1->matplotlib->wordcloud) (46.1.3.post20200330)\n",
      "Installing collected packages: wordcloud\n",
      "Successfully installed wordcloud-1.7.0\n"
     ]
    }
   ],
   "source": [
    "!pip install wordcloud"
   ]
  },
  {
   "cell_type": "code",
   "execution_count": 26,
   "metadata": {},
   "outputs": [],
   "source": [
    "from wordcloud import WordCloud, STOPWORDS \n",
    "import matplotlib.pyplot as plt "
   ]
  },
  {
   "cell_type": "code",
   "execution_count": 51,
   "metadata": {},
   "outputs": [],
   "source": [
    "stopwords = set(STOPWORDS) \n",
    "para = \" \".join(corpus)"
   ]
  },
  {
   "cell_type": "code",
   "execution_count": 56,
   "metadata": {},
   "outputs": [
    {
     "data": {
      "image/png": "[encoded data removed]",
      "text/plain": [
       "<Figure size 432x288 with 1 Axes>"
      ]
     },
     "metadata": {
      "needs_background": "light"
     },
     "output_type": "display_data"
    }
   ],
   "source": [
    "wordcloud = WordCloud(width = 800, height = 800, \n",
    "                stopwords = stopwords).generate(para) \n",
    "  \n",
    "# plot the WordCloud image                        \n",
    "\n",
    "plt.imshow(wordcloud) \n",
    "plt.axis(\"off\") \n",
    "# plt.tight_layout(pad = 0) \n",
    "  \n",
    "plt.show() "
   ]
  },
  {
   "cell_type": "code",
   "execution_count": 52,
   "metadata": {},
   "outputs": [
    {
     "data": {
      "text/plain": [
       "'cricket bat ball game played two team eleven player field centre metre yard pitch wicket end comprising two bail balanced three stump batting side score run striking ball bowled wicket bat bowling fielding side try prevent dismiss player mean dismissal include bowled ball hit stump dislodges bail fielding side catching ball hit bat hit ground ten player dismissed inning end team swap role game adjudicated two umpire aided third umpire match referee international match communicate two field scorer record match statistical information various format ranging twenty played hour team batting single inning over test match played five day unlimited over team batting two inning unlimited length traditionally cricketer play white kit limited over cricket wear club team colour addition basic kit player wear protective gear prevent injury caused ball hard solid spheroid made compressed leather slightly raised sewn seam enclosing cork core layered tightly wound string historically cricket origin uncertain earliest definite reference south east england middle th century spread globally expansion british empire leading first international match second half th century game governing body international cricket council icc member twelve full member play test match game rule held code called law cricket owned maintained marylebone cricket club mcc london sport followed primarily indian subcontinent australasia united kingdom southern africa west indie globalisation occurring expansion british empire remaining popular st century woman cricket organised played separately also achieved international standard successful side playing international cricket australia seven one day international trophy including five world cup country top rated test side country'"
      ]
     },
     "execution_count": 52,
     "metadata": {},
     "output_type": "execute_result"
    }
   ],
   "source": []
  },
  {
   "cell_type": "code",
   "execution_count": null,
   "metadata": {},
   "outputs": [],
   "source": []
  }
 ],
 "metadata": {
  "kernelspec": {
   "display_name": "Python 3",
   "language": "python",
   "name": "python3"
  },
  "language_info": {
   "codemirror_mode": {
    "name": "ipython",
    "version": 3
   },
   "file_extension": ".py",
   "mimetype": "text/x-python",
   "name": "python",
   "nbconvert_exporter": "python",
   "pygments_lexer": "ipython3",
   "version": "3.7.1"
  }
 },
 "nbformat": 4,
 "nbformat_minor": 4
}
